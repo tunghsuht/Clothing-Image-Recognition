{
 "cells": [
  {
   "cell_type": "code",
   "execution_count": null,
   "metadata": {},
   "outputs": [],
   "source": [
    "import os\n",
    "import numpy as np\n",
    "import shutil\n",
    "from IPython.display import clear_output\n",
    "import csv\n",
    "import PIL\n",
    "import PIL.Image\n",
    "import pathlib"
   ]
  },
  {
   "cell_type": "code",
   "execution_count": null,
   "metadata": {},
   "outputs": [],
   "source": [
    "folder_name = './dataset'\n",
    "os.listdir(folder_name)"
   ]
  },
  {
   "cell_type": "markdown",
   "metadata": {},
   "source": [
    "### Arrange"
   ]
  },
  {
   "cell_type": "code",
   "execution_count": null,
   "metadata": {},
   "outputs": [],
   "source": [
    "data_dir = pathlib.Path(folder_name)"
   ]
  },
  {
   "cell_type": "code",
   "execution_count": null,
   "metadata": {},
   "outputs": [],
   "source": [
    "train_img_count = len(list(data_dir.glob('train/*.jpg')))\n",
    "test_img_count = len(list(data_dir.glob('test/*.jpg')))\n",
    "unlabel_img_count = len(list(data_dir.glob('unlabeled_data/*.jpg')))\n",
    "print(f'training data size: {train_img_count}')\n",
    "print(f'testing data size: {test_img_count}')\n",
    "print(f'unlabel data size: {unlabel_img_count}')"
   ]
  },
  {
   "cell_type": "code",
   "execution_count": null,
   "metadata": {},
   "outputs": [],
   "source": [
    "train_img_Path = list(data_dir.glob('train/*.jpg'))\n",
    "test_img_Path = list(data_dir.glob('test/*.jpg'))\n",
    "unlabel_img_Path = list(data_dir.glob('unlabeled_data/*.jpg'))"
   ]
  },
  {
   "cell_type": "code",
   "execution_count": null,
   "metadata": {},
   "outputs": [],
   "source": [
    "str(train_img_Path[0]).split('train/')"
   ]
  },
  {
   "cell_type": "code",
   "execution_count": null,
   "metadata": {},
   "outputs": [],
   "source": [
    "# get labels of training images\n",
    "dictImageLabel = {}\n",
    "the_first = True\n",
    "\n",
    "train_img_name = [str(train_img_Path[i]).split('train/')[1] for i in range(len(train_img_Path))]\n",
    "\n",
    "with open(f'{folder_name}/training_data.csv', newline='') as csvfile:\n",
    "    rows = csv.reader(csvfile)\n",
    "\n",
    "    for row in rows:\n",
    "        if the_first:\n",
    "            the_first = False\n",
    "            continue\n",
    "        dictImageLabel[row[0]] = row[1]\n",
    "\n",
    "train_label = []\n",
    "for i in range(len(dictImageLabel)):\n",
    "    train_label.append(int(dictImageLabel[train_img_name[i]]))\n",
    "print(f'labels: {np.unique(train_label)}')"
   ]
  },
  {
   "cell_type": "code",
   "execution_count": null,
   "metadata": {},
   "outputs": [],
   "source": [
    "train_img_name[0]"
   ]
  },
  {
   "cell_type": "code",
   "execution_count": null,
   "metadata": {},
   "outputs": [],
   "source": [
    "train_label[0]"
   ]
  },
  {
   "cell_type": "code",
   "execution_count": null,
   "metadata": {},
   "outputs": [],
   "source": [
    "# 將training資料用label分成四個資料夾存放\n",
    "if not os.path.isdir(f'{folder_name}/images_arranged91'):\n",
    "    os.mkdir(f'{folder_name}/images_arranged91')\n",
    "if not os.path.isdir(f'{folder_name}/images_arranged91/train'):\n",
    "    os.mkdir(f'{folder_name}/images_arranged91/train')\n",
    "if not os.path.isdir(f'{folder_name}/images_arranged91/vali'):\n",
    "    os.mkdir(f'{folder_name}/images_arranged91/vali')\n",
    "for i in range(4):\n",
    "    if not os.path.isdir(f'{folder_name}/images_arranged91/train/{i}'):\n",
    "        os.mkdir(f'{folder_name}/images_arranged91/train/{i}')\n",
    "    if not os.path.isdir(f'{folder_name}/images_arranged91/vali/{i}'):\n",
    "        os.mkdir(f'{folder_name}/images_arranged91/vali/{i}')\n",
    "\n",
    "for i in range(len(train_img_name)):\n",
    "    if (i+1) % 100 == 0:\n",
    "        print(f'{i+1}/{len(train_img_name)}')\n",
    "    \n",
    "    source = f'{folder_name}/train/{train_img_name[i]}'\n",
    "\n",
    "    if (i+1)%10 == 0:\n",
    "        train_vali_tag = 'vali'\n",
    "    else:\n",
    "        train_vali_tag = 'train'\n",
    "\n",
    "    label = int(dictImageLabel[train_img_name[i]])\n",
    "    if label == 0:\n",
    "        destination = f'{folder_name}/images_arranged91/{train_vali_tag}/0/{train_img_name[i]}'\n",
    "    elif label == 1:\n",
    "        destination = f'{folder_name}/images_arranged91/{train_vali_tag}/1/{train_img_name[i]}'\n",
    "    elif label == 2:\n",
    "        destination = f'{folder_name}/images_arranged91/{train_vali_tag}/2/{train_img_name[i]}'\n",
    "    elif label == 3:\n",
    "        destination = f'{folder_name}/images_arranged91/{train_vali_tag}/3/{train_img_name[i]}'\n",
    "    shutil.copyfile(source, destination)\n",
    "    \n",
    "clear_output()"
   ]
  },
  {
   "cell_type": "code",
   "execution_count": null,
   "metadata": {},
   "outputs": [],
   "source": [
    "# show images\n",
    "PIL.Image.open(str(train_img_Path[0]))"
   ]
  }
 ],
 "metadata": {
  "kernelspec": {
   "display_name": "Python 3",
   "language": "python",
   "name": "python3"
  },
  "language_info": {
   "name": "python",
   "version": "3.10.8"
  }
 },
 "nbformat": 4,
 "nbformat_minor": 2
}
